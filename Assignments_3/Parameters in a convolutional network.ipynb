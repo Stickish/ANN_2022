{
 "cells": [
  {
   "cell_type": "code",
   "execution_count": 1,
   "id": "34fc2875",
   "metadata": {},
   "outputs": [],
   "source": [
    "import tensorflow as tf\n",
    "from tensorflow import keras\n"
   ]
  },
  {
   "cell_type": "code",
   "execution_count": 3,
   "id": "101ccd11",
   "metadata": {},
   "outputs": [],
   "source": [
    "# Building sham network to double check calculations\n",
    "\n",
    "\n",
    "input_shape = (25,25,3)\n",
    "\n",
    "cnn = keras.Sequential()\n",
    "\n",
    "conv_1 = keras.layers.Conv2D(filters=14,\n",
    "                             kernel_size=3,\n",
    "                             strides=(2,2),\n",
    "                             input_shape=input_shape,\n",
    "                             padding='same',\n",
    "                             activation='relu')\n",
    "\n",
    "mpool_1 = keras.layers.MaxPool2D(pool_size=(2,2),\n",
    "                                 )\n",
    "\n",
    "\n",
    "\n",
    "\n",
    "\n",
    "\n",
    "\n",
    "\n"
   ]
  }
 ],
 "metadata": {
  "kernelspec": {
   "display_name": "Python 3 (ipykernel)",
   "language": "python",
   "name": "python3"
  },
  "language_info": {
   "codemirror_mode": {
    "name": "ipython",
    "version": 3
   },
   "file_extension": ".py",
   "mimetype": "text/x-python",
   "name": "python",
   "nbconvert_exporter": "python",
   "pygments_lexer": "ipython3",
   "version": "3.9.12"
  }
 },
 "nbformat": 4,
 "nbformat_minor": 5
}
