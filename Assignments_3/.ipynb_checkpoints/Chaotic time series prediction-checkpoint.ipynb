{
 "cells": [
  {
   "cell_type": "code",
   "execution_count": 2,
   "id": "baef07fc",
   "metadata": {},
   "outputs": [],
   "source": [
    "import numpy as np\n",
    "import matplotlib.pyplot as plt\n",
    "import pandas as pd\n",
    "from tqdm import tqdm\n",
    "plt.style.use('ggplot')\n"
   ]
  },
  {
   "cell_type": "code",
   "execution_count": null,
   "id": "e4374951",
   "metadata": {},
   "outputs": [],
   "source": [
    "# N = 3\n",
    "# M = 500\n",
    "# w_ij(in) = normal(0, 0.002)\n",
    "# w_ij = normal(0, 2/500)\n",
    "# r_i(t+1) = tanh(sum_j w_ij r_j(t) + sum_k w_ik(in) x_k(t))\n",
    "# O_i(t) = sum_j w_ij(out) r_j(t)\n",
    "# train w_ij(out) with ridge regression with ridge param k=0.01\n",
    "\n",
    "# After feeding test data the continuation of the test data should use:\n",
    "# r_i(t+1) = tanh(sum_j w_ij r_j(t) + sum_k w_ik(in) O_k(t))\n",
    "\n",
    "# Use reservoir to predict 500 steps save O_2 for every time step should be saved from T+1 T=len(test_set)\n",
    "# (O_2(T+1) -> O_2(T+501))\n",
    "# upload as predictions.csv"
   ]
  },
  {
   "cell_type": "code",
   "execution_count": 3,
   "id": "4a2d238a",
   "metadata": {},
   "outputs": [
    {
     "name": "stdout",
     "output_type": "stream",
     "text": [
      "(3, 19900)\n"
     ]
    }
   ],
   "source": [
    "# Load data\n",
    "\n",
    "train_df = pd.read_csv('training-set.csv', header=None)\n",
    "test_df = pd.read_csv('test-set-7.csv', header=None)\n",
    "train_df.head()\n",
    "print(train_df.shape)\n",
    "T = train_df.shape[1]"
   ]
  },
  {
   "cell_type": "code",
   "execution_count": 4,
   "id": "5c9b86a5",
   "metadata": {},
   "outputs": [],
   "source": [
    "class Reservoir:\n",
    "    \n",
    "    \n",
    "    def __init__(self):\n",
    "        self.N = 3\n",
    "        self.M = 500\n",
    "        self.rk = 0.01\n",
    "        self.w_in = np.random.normal(0, np.sqrt(0.002), size = (self.M, self.N))\n",
    "        self.w = np.random.normal(0, np.sqrt(2/500), size = (self.M, self.M))\n",
    "        self.w_o = np.zeros((self.N, self.M))\n",
    "        self.T = 19900\n",
    "        self.R = np.zeros((self.M, self.T))\n",
    "        \n",
    "        \n",
    "    def train(self, train_set):\n",
    "        \n",
    "        # Feed train patterns\n",
    "        for t in tqdm(range(self.T - 1)):\n",
    "            r = self.R[:,t]\n",
    "            x = train_set.iloc[:, t]\n",
    "            r_t1 = np.tanh(np.dot(self.w, r) + np.dot(self.w_in, x))\n",
    "            self.R[:,t+1] = r_t1\n",
    "        \n",
    "        # R computed, now linear regression\n",
    "        \n",
    "        self.w_o = train_set @ self.R.transpose() @ np.linalg.inv((self.R @ self.R.transpose() - self.rk*np.identity(self.M)))\n",
    "        # training complete\n",
    "        \n",
    "    def predict(self, test_set):\n",
    "        T_test = test_set.shape[1]\n",
    "        Rt = np.zeros((self.M, T_test))\n",
    "        Rp = np.zeros((self.M, 500))\n",
    "        y_vec = []\n",
    "        # Feed test patterns\n",
    "        \n",
    "        for t in tqdm(range(T_test - 1)):\n",
    "            r = self.R[:,t]\n",
    "            x = train_set.iloc[:, t]\n",
    "            r_t1 = np.tanh(np.dot(self.w, r) + np.dot(self.w_in, x))\n",
    "            self.R[:,t+1] = r_t1\n",
    "        \n",
    "        # Predict for 500 in the future\n",
    "        Rp[:,0] = \n",
    "        for i in range(500):"
   ]
  },
  {
   "cell_type": "code",
   "execution_count": 5,
   "id": "a0aec509",
   "metadata": {},
   "outputs": [
    {
     "name": "stderr",
     "output_type": "stream",
     "text": [
      "100%|███████████████████████████████████████████████████████████████████████████| 19899/19899 [00:22<00:00, 867.05it/s]\n"
     ]
    }
   ],
   "source": [
    "r = Reservoir()\n",
    "r.train(train_df)"
   ]
  },
  {
   "cell_type": "code",
   "execution_count": null,
   "id": "8df56c92",
   "metadata": {},
   "outputs": [],
   "source": []
  }
 ],
 "metadata": {
  "kernelspec": {
   "display_name": "Python 3 (ipykernel)",
   "language": "python",
   "name": "python3"
  },
  "language_info": {
   "codemirror_mode": {
    "name": "ipython",
    "version": 3
   },
   "file_extension": ".py",
   "mimetype": "text/x-python",
   "name": "python",
   "nbconvert_exporter": "python",
   "pygments_lexer": "ipython3",
   "version": "3.9.12"
  }
 },
 "nbformat": 4,
 "nbformat_minor": 5
}
