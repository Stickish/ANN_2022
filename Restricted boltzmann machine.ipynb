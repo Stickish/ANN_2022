{
 "cells": [
  {
   "cell_type": "code",
   "execution_count": 1,
   "id": "530fab4d",
   "metadata": {},
   "outputs": [],
   "source": [
    "import numpy as np\n",
    "import matplotlib.pyplot as plt\n",
    "plt.style.use('ggplot')\n",
    "\n"
   ]
  },
  {
   "cell_type": "code",
   "execution_count": 33,
   "id": "c553dad9",
   "metadata": {},
   "outputs": [],
   "source": [
    "# Helper functions\n",
    "\n",
    "def p(vector : np.ndarray) -> np.ndarray:\n",
    "    \n",
    "    denominator = 1 + np.exp(-2*np.asarray(vector))\n",
    "    \n",
    "    return 1/denominator\n",
    "    \n",
    "\n",
    "def DKL(dist: np.ndarray) -> float:\n",
    "    pd = np.asarray([1/4, 1/4, 1/4, 1/4, 0, 0, 0, 0])\n",
    "    \n",
    "    dkl = 0\n",
    "    for i in range(4):\n",
    "        if pd[i] > 0 and dist[i] > 0:\n",
    "            dkl += pd[i] * np.log(pd[i]/dist[i])\n",
    "        \n",
    "        elif pd[i] == 0 and dist[i] > 0:\n",
    "            dkl += 0\n",
    "        \n",
    "        else:\n",
    "            dkl += np.infty\n",
    "            \n",
    "            \n",
    "    return dkl\n",
    "\n",
    "\n",
    "def DKLT(m: int) -> float:\n",
    "    if m < 2**(2) - 1:\n",
    "        dklt = 3 - np.floor(np.log2(m+1)) -(m+1)/(2**np.floor(np.log2(m+1)))\n",
    "        dklt = np.log(2**dklt)\n",
    "    else:\n",
    "        dklt = 0\n",
    "    \n",
    "    return dklt\n",
    "    "
   ]
  },
  {
   "cell_type": "code",
   "execution_count": 31,
   "id": "1d89db44",
   "metadata": {},
   "outputs": [],
   "source": [
    "class RBM:\n",
    "    def __init__(self, M, k):\n",
    "        self.M = M\n",
    "        self.k = k\n",
    "        self.v = np.zeros((3,))\n",
    "        self.h = np.zeros((M,))\n",
    "        self.w = np.random.normal(0,1/np.sqrt(3),(M,3))\n",
    "        self.tv = np.zeros((3,))\n",
    "        self.th = np.zeros((M,))\n",
    "        self.eta = 0.1\n",
    "        \n",
    "        \n",
    "    def train(self, train_patterns):\n",
    "#         print(train_patterns)\n",
    "        for _ in range(1000): # 100 realisations\n",
    "            # sample 20 different patterns\n",
    "            dw = np.zeros(shape=self.w.shape)\n",
    "            dth = np.zeros((self.M,))\n",
    "            dtv = np.zeros((3,))\n",
    "            \n",
    "            for __ in range(20):\n",
    "                idx = np.random.choice(len(train_patterns))\n",
    "                # print(idx)\n",
    "                mu = np.asarray(train_patterns[idx].copy())\n",
    "#                 print(mu)\n",
    "                self.v[:] = mu[:]\n",
    "                v0 = np.asarray(mu)\n",
    "                bh0 = self.w @ v0 - self.th\n",
    "                \n",
    "                probs = p(bh0)\n",
    "                r = np.random.rand(self.M)\n",
    "                self.h[:] = -1\n",
    "                self.h[r < probs] = 1\n",
    "                \n",
    "                for t in range(self.k):\n",
    "                    bv = np.dot(self.h,self.w) - self.tv\n",
    "                    probs = p(bv)\n",
    "                    r = np.random.rand(3)\n",
    "                    self.v[:] = -1\n",
    "                    self.v[r < probs] = 1\n",
    "                    \n",
    "                    bh = self.w @ self.v - self.th\n",
    "                    probs = p(bh)\n",
    "                    r = np.random.rand()\n",
    "                    self.h[:] = -1\n",
    "                    self.h[r < probs] = 1\n",
    "                \n",
    "                \n",
    "                dw += self.eta   * (np.outer(np.tanh(bh0), v0) - np.outer(np.tanh(bh), self.v))\n",
    "                dtv += -self.eta * (v0 - self.v)\n",
    "                dth += -self.eta * (np.tanh(bh0) - np.tanh(bh))\n",
    "            \n",
    "            self.w += dw\n",
    "            self.tv += dtv\n",
    "            self.th += dth\n",
    "            \n",
    "    def compute_distribution(self, patterns):\n",
    "        \n",
    "        #feed 4000 patterns\n",
    "        dist = np.zeros((len(patterns),))\n",
    "        \n",
    "        for _ in range(4000):\n",
    "            idx = np.random.choice(len(patterns))\n",
    "            mu = patterns[idx].copy()\n",
    "            self.v = np.asarray(mu)\n",
    "            # print(self.v)\n",
    "            bh = self.w @ self.v - self.th\n",
    "            probs = p(bh)\n",
    "            r = np.random.rand(self.M)\n",
    "            \n",
    "            self.h[:] = -1\n",
    "            self.h[r < probs] = 1\n",
    "            \n",
    "            for tt in range(500):\n",
    "                bv = np.dot(self.h,self.w) - self.tv\n",
    "                probs = p(bv)\n",
    "                r = np.random.rand(3)\n",
    "                self.v[:] = -1\n",
    "                self.v[r < probs] = 1\n",
    "\n",
    "                bh = self.w @ self.v - self.th\n",
    "                probs = p(bh)\n",
    "                r = np.random.rand(self.M)\n",
    "                self.h[:] = -1\n",
    "                self.h[r < probs] = 1\n",
    "        \n",
    "            \n",
    "            # find what pattern we our visible neurons correspond to\n",
    "            # print(self.v)\n",
    "            for i, pattern in enumerate(patterns):\n",
    "                \n",
    "                if np.array_equal(pattern, self.v):\n",
    "                    dist[i] += 1\n",
    "                    #print(pattern)\n",
    "        # print(patterns)\n",
    "        return dist/np.sum(dist)"
   ]
  },
  {
   "cell_type": "code",
   "execution_count": 32,
   "id": "c68b4eb9",
   "metadata": {},
   "outputs": [
    {
     "name": "stdout",
     "output_type": "stream",
     "text": [
      "M = 1  trained\n",
      "M = 1  distribution found\n",
      "[5.000e-04 6.720e-01 2.500e-04 2.050e-02 6.000e-02 0.000e+00 2.425e-01\n",
      " 4.250e-03]\n",
      "M = 2  trained\n",
      "M = 2  distribution found\n",
      "[0.304   0.227   0.012   0.08875 0.08525 0.04625 0.23225 0.0045 ]\n",
      "M = 4  trained\n",
      "M = 4  distribution found\n",
      "[3.1200e-01 2.7200e-01 2.7300e-01 1.4225e-01 0.0000e+00 2.5000e-04\n",
      " 0.0000e+00 5.0000e-04]\n",
      "M = 8  trained\n",
      "M = 8  distribution found\n",
      "[2.4700e-01 2.4950e-01 2.7350e-01 2.2975e-01 2.5000e-04 0.0000e+00\n",
      " 0.0000e+00 0.0000e+00]\n",
      "[3.6586504966153273, 0.993283968604459, 0.04249513728802652, 0.002175759132900648]\n"
     ]
    }
   ],
   "source": [
    "patterns = [[-1,-1,-1], [1,-1,1], [-1,1,1], [1,1,-1],\n",
    "            [1,1,1], [-1,1,-1], [1,-1,-1], [-1,-1,1]]\n",
    "\n",
    "M_vec = [1,2,4,8]\n",
    "DKLs = []\n",
    "for M in M_vec:\n",
    "\n",
    "    rbm = RBM(M, 100)\n",
    "    rbm.train([[-1,-1,-1], [1,-1,1], [-1,1,1], [1,1,-1]])\n",
    "    print(f'M = {M : <2} trained')\n",
    "    dist = rbm.compute_distribution(patterns)\n",
    "    print(f'M = {M : <2} distribution found')\n",
    "    print(dist)\n",
    "    DKLs.append(DKL(dist))\n",
    "    \n",
    "print(DKLs)"
   ]
  },
  {
   "cell_type": "code",
   "execution_count": 46,
   "id": "27ff2122",
   "metadata": {},
   "outputs": [],
   "source": [
    "import pickle as pkl\n",
    "values = [rbm.eta, rbm.w, rbm.th, rbm.tv, rbm.k, DKLs]\n",
    "# with open('values_M8.pkl', 'wb') as f:\n",
    "#     pkl.dump(values, f)"
   ]
  },
  {
   "cell_type": "code",
   "execution_count": 34,
   "id": "f51feb8c",
   "metadata": {},
   "outputs": [
    {
     "name": "stdout",
     "output_type": "stream",
     "text": [
      "[0.6931471805599453, 0.3465735902799727, 0, 0]\n",
      "0.3465735902799727\n"
     ]
    }
   ],
   "source": [
    "DKLTs = []\n",
    "for m in M_vec:\n",
    "    DKLTs.append(DKLT(m))\n",
    "print(DKLTs)\n",
    "print(DKLT(2))"
   ]
  },
  {
   "cell_type": "code",
   "execution_count": 48,
   "id": "3ee01686",
   "metadata": {},
   "outputs": [
    {
     "data": {
      "image/png": "[encoded data removed]",
      "text/plain": [
       "<Figure size 1000x1000 with 1 Axes>"
      ]
     },
     "metadata": {},
     "output_type": "display_data"
    }
   ],
   "source": [
    "f = plt.figure(figsize=(10,10))\n",
    "plt.plot(M_vec, DKLs, marker='o')\n",
    "plt.xlabel('Number of hidden neurons\\n$M$')\n",
    "plt.ylabel('Kullback-Leibler divergence\\n$D_{KL}$')\n",
    "#[3.6586504966153273, 0.993283968604459, 0.04249513728802652, 0.002175759132900648]\n",
    "plt.savefig('DKL_M.png')\n",
    "plt.show()\n"
   ]
  }
 ],
 "metadata": {
  "kernelspec": {
   "display_name": "Python 3 (ipykernel)",
   "language": "python",
   "name": "python3"
  },
  "language_info": {
   "codemirror_mode": {
    "name": "ipython",
    "version": 3
   },
   "file_extension": ".py",
   "mimetype": "text/x-python",
   "name": "python",
   "nbconvert_exporter": "python",
   "pygments_lexer": "ipython3",
   "version": "3.9.12"
  }
 },
 "nbformat": 4,
 "nbformat_minor": 5
}
