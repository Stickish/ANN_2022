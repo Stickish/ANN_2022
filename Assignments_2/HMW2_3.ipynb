{
 "cells": [
  {
   "cell_type": "code",
   "execution_count": 15,
   "id": "f74fd5c0",
   "metadata": {},
   "outputs": [],
   "source": [
    "import numpy as np\n",
    "import matplotlib.pyplot as plt\n",
    "from itertools import product\n",
    "plt.style.use('ggplot')\n",
    "\n",
    "\n"
   ]
  },
  {
   "cell_type": "code",
   "execution_count": 250,
   "id": "ffab0aeb",
   "metadata": {},
   "outputs": [],
   "source": [
    "def p(vec : np.ndarray) -> float:\n",
    "    return 1/(1 + np.exp(-2 * vec))\n",
    "\n",
    "def compute_DKL(dist: np.ndarray) -> float:\n",
    "    p_data = [0.25, 0.25, 0.25, 0.25, 0, 0, 0, 0]\n",
    "    DKL = 0\n",
    "    for i in range(4):\n",
    "        DKL += p_data[i] * np.log10(p_data[i]/dist[i])\n",
    "    \n",
    "    return  DKL\n",
    "\n",
    "\n",
    "\n",
    "class RestrictedBoltzman:\n",
    "    def __init__(self, M : int, k : int, lr : float):\n",
    "        self.M = M\n",
    "        self.lr = lr\n",
    "        self.k = k\n",
    "        self.N = 3\n",
    "        self.v = np.zeros((self.N,))\n",
    "        self.h = np.zeros((self.M,))\n",
    "        self.b_h = np.zeros((self.M,))\n",
    "        self.b_h0 = np.zeros((self.M))\n",
    "        self.b_v = np.zeros((self.N,))\n",
    "        self.W = np.random.normal(0,1/(self.M * self.N),(self.M,self.N))\n",
    "        self.th = np.zeros((self.M,))\n",
    "        self.tv = np.zeros((self.N))\n",
    "        \n",
    "        X = np.zeros((8, 3))\n",
    "        X[0, :] = np.asarray([-1, -1, -1])\n",
    "        X[1, :] = np.asarray([1, -1, 1])\n",
    "        X[2, :] = np.asarray([-1, 1, 1])\n",
    "        X[3, :] = np.asarray([1, 1, -1])\n",
    "        X[4, :] = np.asarray([-1, -1, 1])\n",
    "        X[5, :] = np.asarray([1, 1, 1])\n",
    "        X[6, :] = np.asarray([-1, 1, -1])\n",
    "        X[7, :] = np.asarray([1, -1, -1])\n",
    "        self.patterns = X\n",
    "        print(self.patterns)\n",
    "        self.p = 8\n",
    "        \n",
    "    def train(self, num_iterations : int):\n",
    "        outer_loops = num_iterations\n",
    "        for _ in range(outer_loops):\n",
    "            # sample the patterns\n",
    "            dW = np.zeros(self.W.shape)\n",
    "            dth = np.zeros(self.th.shape)\n",
    "            dtv = np.zeros(self.tv.shape)\n",
    "            \n",
    "            # batches of size 20\n",
    "            p_o = np.random.randint(0, 4, (20,))\n",
    "            for i in p_o:\n",
    "                mu = self.patterns[i,:].copy()\n",
    "                self.v = mu\n",
    "                #print('input pattern: ', self.v)\n",
    "                self.v0 = mu\n",
    "                self.b_h = self.W @ self.v - self.th\n",
    "                self.b_h0 = self.W @ self.v0 - self.th\n",
    "\n",
    "                ps = p(self.b_h)\n",
    "                r = np.random.rand(self.M)\n",
    "                self.h[:] = -1\n",
    "                self.h[r < ps ] = 1\n",
    "    #                 print(f'hidden neuron init: {self.h}, {self.h.shape}')\n",
    "\n",
    "                # let the machine learn a bit\n",
    "                for t in range(self.k):\n",
    "                    # update visible neurons\n",
    "                    self.b_v = self.h @ self.W - self.tv\n",
    "    #                     print(f'visible neuron update {self.b_v}')\n",
    "                    ps = p(self.b_v)\n",
    "    #                 print(ps)\n",
    "                    r = np.random.rand(self.N)\n",
    "    #                     print(self.v)\n",
    "    #                     print(r)\n",
    "    #                     print(ps)\n",
    "                    self.v[r > ps] = -1\n",
    "                    self.v[r <= ps] = 1\n",
    "\n",
    "                    # update hidden neurons\n",
    "                    self.b_h = self.W @ self.v - self.th\n",
    "                    ps = p(self.b_h)\n",
    "    #                 print(ps)\n",
    "                    r = np.random.rand(self.M)\n",
    "                    self.h[r > ps] = -1\n",
    "                    self.h[r <= ps] = 1\n",
    "                    # print('end of k_loop: ', self.v)\n",
    "                # print('')\n",
    "                # compute increments for weights and thresholds\n",
    "                dW += self.lr * (np.outer(np.tanh(self.b_h0), self.v0) - \\\n",
    "                                 np.outer(np.tanh(self.b_h), self.v)) \n",
    "\n",
    "                dtv -= self.lr * (self.v0 - self.v)\n",
    "                dth -= self.lr * (np.tanh(self.b_h0) - np.tanh(self.b_h))\n",
    "            \n",
    "            # update weights\n",
    "            self.W += dW\n",
    "            self.tv += dtv\n",
    "            self.th += dth\n",
    "        \n",
    "        \n",
    "    def compute_distribution(self, N_out, N_in):\n",
    "        N_outer = N_out\n",
    "        N_inner = N_in\n",
    "        distribution = np.zeros((8,))\n",
    "        for _ in range(N_outer):\n",
    "            i_p = np.random.randint(0, 8)\n",
    "            mu = self.patterns[i_p].copy()\n",
    "            self.v = mu\n",
    "            self.b_h = self.W @ self.v - self.th\n",
    "            r = np.random.rand(self.M)\n",
    "            ps = p(self.b_h)\n",
    "            self.h[r > ps] = -1\n",
    "            self.h[r <= ps] = 1\n",
    "            \n",
    "            # inner loop\n",
    "            for __ in range(N_inner):\n",
    "                # update visible neurons\n",
    "                self.b_v = self.h @ self.W - self.tv\n",
    "                ps = p(self.b_v)\n",
    "                r = np.random.rand(self.N)\n",
    "                self.v[r > ps] = -1\n",
    "                self.v[r <= ps] = 1\n",
    "\n",
    "                # update hidden neurons\n",
    "                self.b_h = self.W @ self.v - self.th\n",
    "                ps = p(self.b_h)\n",
    "                r = np.random.rand(self.M)\n",
    "                self.h[r > ps] = -1\n",
    "                self.h[r <= ps] = 1 \n",
    "                \n",
    "                for l in range(8):\n",
    "                    if np.array_equal(self.v, self.patterns[l,:]):\n",
    "                        distribution[l] += 1/(N_inner * N_outer)\n",
    "            \n",
    "        \n",
    "        self.distribution = distribution    \n",
    "        return distribution\n",
    "            \n",
    "            \n",
    "            "
   ]
  },
  {
   "cell_type": "code",
   "execution_count": 251,
   "id": "aa8e20bf",
   "metadata": {},
   "outputs": [
    {
     "name": "stdout",
     "output_type": "stream",
     "text": [
      "[[-1. -1. -1.]\n",
      " [ 1. -1.  1.]\n",
      " [-1.  1.  1.]\n",
      " [ 1.  1. -1.]\n",
      " [-1. -1.  1.]\n",
      " [ 1.  1.  1.]\n",
      " [-1.  1. -1.]\n",
      " [ 1. -1. -1.]]\n",
      "(8, 3) (8,) (3,)\n"
     ]
    }
   ],
   "source": [
    "Ms = [1,2,4,8]\n",
    "\n",
    "rb = RestrictedBoltzman(Ms[-1], 200, 0.005)\n",
    "print(rb.W.shape, rb.th.shape, rb.tv.shape)\n"
   ]
  },
  {
   "cell_type": "code",
   "execution_count": 252,
   "id": "eaa1a5c0",
   "metadata": {},
   "outputs": [
    {
     "name": "stdout",
     "output_type": "stream",
     "text": [
      "(8, 3) (8,) (3,)\n"
     ]
    }
   ],
   "source": [
    "rb.train(100)\n",
    "\n",
    "print(rb.W.shape, rb.th.shape, rb.tv.shape)\n",
    "\n"
   ]
  },
  {
   "cell_type": "code",
   "execution_count": 249,
   "id": "ce7fca96",
   "metadata": {},
   "outputs": [
    {
     "name": "stdout",
     "output_type": "stream",
     "text": [
      "[0.22794  0.013371 0.223761 0.005211 0.26549  0.093318 0.01917  0.151739]\n"
     ]
    }
   ],
   "source": [
    "dist = rb.compute_distribution(2000, 500)\n",
    "print(dist)\n"
   ]
  },
  {
   "cell_type": "code",
   "execution_count": 178,
   "id": "133003fa",
   "metadata": {},
   "outputs": [
    {
     "name": "stdout",
     "output_type": "stream",
     "text": [
      "1.0000000000043336\n"
     ]
    }
   ],
   "source": [
    "print(sum(dist))"
   ]
  },
  {
   "cell_type": "code",
   "execution_count": 245,
   "id": "d60244c9",
   "metadata": {},
   "outputs": [
    {
     "name": "stdout",
     "output_type": "stream",
     "text": [
      "0.7352263978202708\n",
      "[[-1. -1. -1.]\n",
      " [ 1. -1.  1.]\n",
      " [-1.  1.  1.]\n",
      " [ 1.  1. -1.]\n",
      " [-1. -1.  1.]\n",
      " [ 1.  1.  1.]\n",
      " [-1.  1. -1.]\n",
      " [ 1. -1. -1.]]\n"
     ]
    }
   ],
   "source": [
    "print(compute_DKL(dist))\n",
    "print(rb.patterns)"
   ]
  },
  {
   "cell_type": "code",
   "execution_count": 182,
   "id": "88894a95",
   "metadata": {},
   "outputs": [
    {
     "name": "stdout",
     "output_type": "stream",
     "text": [
      "[[1. 2. 3.]\n",
      " [1. 2. 3.]\n",
      " [1. 2. 3.]\n",
      " [1. 2. 3.]\n",
      " [1. 2. 3.]\n",
      " [1. 2. 3.]\n",
      " [1. 2. 3.]\n",
      " [1. 2. 3.]]\n",
      "[2. 4. 6.]\n"
     ]
    }
   ],
   "source": [
    "hh = [1, -1, -1, 1, 1, -1, 1, 1]\n",
    "ww = np.ones((8,3))\n",
    "ww[:,0] *=1\n",
    "ww[:,1] *=2\n",
    "ww[:,2] *=3\n",
    "print(ww)\n",
    "print(hh @ ww)"
   ]
  }
 ],
 "metadata": {
  "kernelspec": {
   "display_name": "Python 3 (ipykernel)",
   "language": "python",
   "name": "python3"
  },
  "language_info": {
   "codemirror_mode": {
    "name": "ipython",
    "version": 3
   },
   "file_extension": ".py",
   "mimetype": "text/x-python",
   "name": "python",
   "nbconvert_exporter": "python",
   "pygments_lexer": "ipython3",
   "version": "3.9.12"
  }
 },
 "nbformat": 4,
 "nbformat_minor": 5
}
