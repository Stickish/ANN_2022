{
 "cells": [
  {
   "cell_type": "code",
   "execution_count": 1,
   "id": "83564a95",
   "metadata": {},
   "outputs": [],
   "source": [
    "import numpy as np\n",
    "import matplotlib.pyplot as plt\n",
    "import mnist\n",
    "plt.style.use('ggplot')\n",
    "\n"
   ]
  },
  {
   "cell_type": "code",
   "execution_count": 2,
   "id": "4d6eee18",
   "metadata": {},
   "outputs": [],
   "source": [
    "# Load the data\n",
    "\n",
    "x_train, t_train, x_test, t_test = mnist.load()\n"
   ]
  },
  {
   "cell_type": "code",
   "execution_count": 6,
   "id": "8a56e26d",
   "metadata": {},
   "outputs": [
    {
     "name": "stdout",
     "output_type": "stream",
     "text": [
      "(60000, 784)\n"
     ]
    }
   ],
   "source": [
    "print(x_train.shape)"
   ]
  },
  {
   "cell_type": "code",
   "execution_count": 57,
   "id": "1c3ca822",
   "metadata": {},
   "outputs": [],
   "source": [
    "# Network time baby\n",
    "\n",
    "# 28 input neurons, 2 hidden layers seems to be reasonable 10 output neurons\n",
    "# Helper functions\n",
    "\n",
    "def softmax(z : np.ndarray) -> np.ndarray:\n",
    "    numerator = np.exp(z)\n",
    "    denominator = np.sum(numerator)\n",
    "    return numerator/denominator\n",
    "    \n",
    "\n",
    "def sigmoid(z : np.ndarray) -> np.ndarray:\n",
    "    return 1/(1 + np.exp(-1 * np.asarray(z)))\n",
    "    \n",
    "\n",
    "\n",
    "\n",
    "# class for network\n",
    "class Network:\n",
    "    def __init__(self, M: int):\n",
    "        self.M = M # Number of neurons in each hidden layer\n",
    "        self.N = 784\n",
    "        self.eta = 0.01\n",
    "        self.s = np.zeros((28,))\n",
    "        # init weights\n",
    "        self.W1 = np.random.normal(0, 1/np.sqrt(self.N), (self.M, self.N))\n",
    "        self.W2 = np.random.normal(0, 1/(np.sqrt(self.M)), (self.M, self.M))\n",
    "        self.w = np.random.normal(0, 1/np.sqrt(self.M), (10, self.M))\n",
    "        \n",
    "        # init thresholds\n",
    "        self.T1 = np.zeros((self.M, ))\n",
    "        self.T2 = np.zeros((self.M, ))\n",
    "        self.t = np.zeros((10, ))\n",
    "    \n",
    "    \n",
    "    def feed_forward(self, x):\n",
    "        \n",
    "        # first layer\n",
    "        b1 = self.W1 @ x - self.T1\n",
    "        V1 = sigmoid(b1)\n",
    "        print(V1)\n",
    "        \n",
    "        # second layer\n",
    "        b2 = self.W2 @ V1 - self.T2\n",
    "        V2 = sigmoid(b2)\n",
    "        print(V2)\n",
    "        \n",
    "        # Output layer\n",
    "        B = np.dot(self.w, V2) - self.t\n",
    "        print(f'B = {B}')\n",
    "        O = softmax(B)\n",
    "        \n",
    "        return b1, V1, b2, V2, B, O\n",
    "    \n",
    "    \n",
    "    def back_propagate(self, b1_vec, V1_vec, b2_vec, V2_vec, B_vec, O_vec, t_vec):\n",
    "        \n",
    "            \n",
    "        # Backpropagation\n",
    "        dW1 = np.zeros(shape = self.W1.shape)\n",
    "        dW2 = np.zeros(shape = self.W2.shape)\n",
    "        dw = np.zeros(shape = self.w.shape)\n",
    "        \n",
    "        dT1 = np.zeros(shape = self.T1.shape)\n",
    "        dT2 = np.zeros(shape = self.T2.shape)\n",
    "        dt = np.zeros(shape = self.t.shape)\n",
    "        \n",
    "        for i idx in range(t_vec.shape[0]):\n",
    "            t = t_vec[i]\n",
    "            b1 = b1_vec[i]\n",
    "            V1 = V1_vec[i] \n",
    "            b2 = b2_vec[i]\n",
    "            V2 = V2_vec[i]\n",
    "            B = B_vec[i]\n",
    "            O = O_vec[i]\n",
    "            \n",
    "            # update rules for these functions\n",
    "            \n",
    "            \n",
    "            \n",
    "        for index, row in x_train.iterrows():\n",
    "            x_i = [row['x1'], row['x2']]\n",
    "            #print(x_i.shape)\n",
    "            t = row['target']\n",
    "            b, V, B, O = row['O']\n",
    "\n",
    "            g = (t - O) * g_prime(B) # gamma\n",
    "            d = g * np.multiply(self.W, g_prime(b))  # delta\n",
    "            dW += g * V\n",
    "            dT += g\n",
    "            dw += np.outer(d, x_i)\n",
    "            dth += d\n",
    "\n",
    "        self.W += self.lr * dW\n",
    "        self.T -= self.lr * dT\n",
    "        self.w += self.lr * dw\n",
    "        self.th -= self.lr * dth\n",
    "        \n",
    "        \n",
    "    \n",
    "    def train(self, x_t, t_t, x_v, t_v):\n",
    "        # set input to x_t[i]\n",
    "        \n",
    "        # feed pattern to network\n",
    "        \n",
    "        # \n",
    "        return 'focare'\n",
    "        \n",
    "    def test(self, x_test, t_test):\n",
    "        return 'foc'\n",
    "a = Network(3)"
   ]
  },
  {
   "cell_type": "code",
   "execution_count": 55,
   "id": "c6771faa",
   "metadata": {},
   "outputs": [
    {
     "name": "stdout",
     "output_type": "stream",
     "text": [
      "[0.51595534 0.55041929 0.45800357]\n",
      "[0.31573165 0.35586089 0.51473047]\n",
      "B = [-0.07365191  0.44233526 -0.89790016  0.24014016  0.35251285 -0.14982621\n",
      "  0.15363275  0.63245798  0.32118064 -0.16931493]\n",
      "(array([ 0.06384302,  0.20236494, -0.16838244]), array([0.51595534, 0.55041929, 0.45800357]), array([-0.77345753, -0.5933748 ,  0.05893894]), array([0.31573165, 0.35586089, 0.51473047]), array([-0.07365191,  0.44233526, -0.89790016,  0.24014016,  0.35251285,\n",
      "       -0.14982621,  0.15363275,  0.63245798,  0.32118064, -0.16931493]), array([0.07927275, 0.13280495, 0.03476622, 0.10849309, 0.12139615,\n",
      "       0.07345846, 0.09950213, 0.16061405, 0.11765151, 0.07204071]))\n"
     ]
    }
   ],
   "source": [
    "ff = a.feed_forward(x_train[0]/256)\n",
    "print(ff)"
   ]
  }
 ],
 "metadata": {
  "kernelspec": {
   "display_name": "Python 3 (ipykernel)",
   "language": "python",
   "name": "python3"
  },
  "language_info": {
   "codemirror_mode": {
    "name": "ipython",
    "version": 3
   },
   "file_extension": ".py",
   "mimetype": "text/x-python",
   "name": "python",
   "nbconvert_exporter": "python",
   "pygments_lexer": "ipython3",
   "version": "3.9.12"
  }
 },
 "nbformat": 4,
 "nbformat_minor": 5
}
