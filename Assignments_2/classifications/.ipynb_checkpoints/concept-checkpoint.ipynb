{
 "cells": [
  {
   "cell_type": "code",
   "execution_count": 2,
   "id": "746c9934",
   "metadata": {},
   "outputs": [],
   "source": [
    "import numpy as np\n",
    "import tensorflow as tf\n",
    "from tensorflow import keras\n",
    "from tensorflow.keras import layers\n",
    "import matplotlib.pyplot as plt\n",
    "plt.style.use('ggplot')\n"
   ]
  },
  {
   "cell_type": "code",
   "execution_count": 3,
   "id": "00f86c8d",
   "metadata": {},
   "outputs": [
    {
     "name": "stdout",
     "output_type": "stream",
     "text": [
      "Downloading data from https://storage.googleapis.com/tensorflow/tf-keras-datasets/mnist.npz\n",
      "11490434/11490434 [==============================] - 2s 0us/step\n",
      "(60000, 28, 28)\n",
      "(60000,)\n"
     ]
    }
   ],
   "source": [
    "num_classes = 10 # ten numbers\n",
    "input_shape = (28, 28, 1) # needs the final 1 for conv2D layers with one channel\n",
    "\n",
    "(x_train, y_train), (x_test, y_test) = keras.datasets.mnist.load_data() # load the mnist dataset\n",
    "\n",
    "x_train =x_train/ 255.0 # go from [0, 255] -> [0, 1]\n",
    "x_test =x_test/ 255.0 # go from [0, 255] -> [0, 1]\n",
    "\n",
    "y_train = keras.utils.to_categorical(y_train, num_classes) # convert to one-hot vectors\n",
    "y_test = keras.utils.to_categorical(y_test, num_classes) # convert to one-hot vectors"
   ]
  },
  {
   "cell_type": "code",
   "execution_count": 5,
   "id": "f17f06c8",
   "metadata": {},
   "outputs": [
    {
     "name": "stdout",
     "output_type": "stream",
     "text": [
      "Model: \"sequential\"\n",
      "_________________________________________________________________\n",
      " Layer (type)                Output Shape              Param #   \n",
      "=================================================================\n",
      " conv2d (Conv2D)             (None, 26, 26, 32)        320       \n",
      "                                                                 \n",
      " max_pooling2d (MaxPooling2D  (None, 13, 13, 32)       0         \n",
      " )                                                               \n",
      "                                                                 \n",
      " conv2d_1 (Conv2D)           (None, 11, 11, 64)        18496     \n",
      "                                                                 \n",
      " max_pooling2d_1 (MaxPooling  (None, 5, 5, 64)         0         \n",
      " 2D)                                                             \n",
      "                                                                 \n",
      " flatten (Flatten)           (None, 1600)              0         \n",
      "                                                                 \n",
      " dropout (Dropout)           (None, 1600)              0         \n",
      "                                                                 \n",
      " dense (Dense)               (None, 10)                16010     \n",
      "                                                                 \n",
      "=================================================================\n",
      "Total params: 34,826\n",
      "Trainable params: 34,826\n",
      "Non-trainable params: 0\n",
      "_________________________________________________________________\n"
     ]
    }
   ],
   "source": [
    "# Build model\n",
    "model = keras.Sequential()\n",
    "model.add(layers.Conv2D(32, kernel_size=(3, 3), activation=\"relu\", \n",
    "                        input_shape=(28, 28, 1), data_format=\"channels_last\"))\n",
    "model.add(layers.MaxPooling2D(pool_size=(2, 2)))\n",
    "model.add(layers.Conv2D(64, kernel_size=(3, 3), activation=\"relu\", data_format=\"channels_last\"))\n",
    "model.add(layers.MaxPooling2D(pool_size=(2, 2)))\n",
    "model.add(layers.Flatten())\n",
    "model.add(layers.Dropout(0.5))\n",
    "model.add(layers.Dense(num_classes, activation=\"softmax\"))\n",
    "\n",
    "\n",
    "model.summary()\n",
    "\n"
   ]
  },
  {
   "cell_type": "code",
   "execution_count": 6,
   "id": "d641c4b4",
   "metadata": {},
   "outputs": [
    {
     "name": "stdout",
     "output_type": "stream",
     "text": [
      "Epoch 1/14\n",
      "352/352 [==============================] - 19s 54ms/step - loss: 0.4045 - accuracy: 0.8764 - val_loss: 0.1209 - val_accuracy: 0.9637\n",
      "Epoch 2/14\n",
      "352/352 [==============================] - 18s 52ms/step - loss: 0.1215 - accuracy: 0.9632 - val_loss: 0.0810 - val_accuracy: 0.9765\n",
      "Epoch 3/14\n",
      "352/352 [==============================] - 19s 54ms/step - loss: 0.0914 - accuracy: 0.9720 - val_loss: 0.0654 - val_accuracy: 0.9805\n",
      "Epoch 4/14\n",
      "352/352 [==============================] - 19s 55ms/step - loss: 0.0743 - accuracy: 0.9771 - val_loss: 0.0572 - val_accuracy: 0.9827\n",
      "Epoch 5/14\n",
      "352/352 [==============================] - 19s 55ms/step - loss: 0.0651 - accuracy: 0.9796 - val_loss: 0.0500 - val_accuracy: 0.9850\n",
      "Epoch 6/14\n",
      "352/352 [==============================] - 20s 57ms/step - loss: 0.0611 - accuracy: 0.9816 - val_loss: 0.0492 - val_accuracy: 0.9848\n",
      "Epoch 7/14\n",
      "352/352 [==============================] - 20s 56ms/step - loss: 0.0548 - accuracy: 0.9827 - val_loss: 0.0448 - val_accuracy: 0.9863\n",
      "Epoch 8/14\n",
      "352/352 [==============================] - 20s 56ms/step - loss: 0.0507 - accuracy: 0.9841 - val_loss: 0.0428 - val_accuracy: 0.9872\n",
      "Epoch 9/14\n",
      "352/352 [==============================] - 20s 56ms/step - loss: 0.0454 - accuracy: 0.9851 - val_loss: 0.0411 - val_accuracy: 0.9875\n",
      "Epoch 10/14\n",
      "352/352 [==============================] - 20s 57ms/step - loss: 0.0456 - accuracy: 0.9856 - val_loss: 0.0402 - val_accuracy: 0.9879\n",
      "Epoch 11/14\n",
      "352/352 [==============================] - 20s 56ms/step - loss: 0.0414 - accuracy: 0.9870 - val_loss: 0.0420 - val_accuracy: 0.9870\n",
      "Epoch 12/14\n",
      "352/352 [==============================] - 20s 57ms/step - loss: 0.0399 - accuracy: 0.9878 - val_loss: 0.0406 - val_accuracy: 0.9875\n",
      "Epoch 13/14\n",
      "352/352 [==============================] - 20s 56ms/step - loss: 0.0388 - accuracy: 0.9875 - val_loss: 0.0373 - val_accuracy: 0.9884\n",
      "Epoch 14/14\n",
      "352/352 [==============================] - 20s 57ms/step - loss: 0.0376 - accuracy: 0.9876 - val_loss: 0.0384 - val_accuracy: 0.9893\n"
     ]
    },
    {
     "data": {
      "text/plain": [
       "<keras.callbacks.History at 0x25ff3925100>"
      ]
     },
     "execution_count": 6,
     "metadata": {},
     "output_type": "execute_result"
    }
   ],
   "source": [
    "batch_size=128\n",
    "epochs=10\n",
    "model.compile(loss=\"categorical_crossentropy\", optimizer=\"adam\", metrics=[\"accuracy\"])\n",
    "# Should test k-fold cross validation\n",
    "model.fit(x_train, y_train, batch_size=batch_size, epochs=epochs, validation_split=0.25)"
   ]
  },
  {
   "cell_type": "code",
   "execution_count": 7,
   "id": "1061d506",
   "metadata": {},
   "outputs": [
    {
     "name": "stdout",
     "output_type": "stream",
     "text": [
      "Test loss: 0.03156032785773277\n",
      "Test accuracy: 0.9897000193595886\n"
     ]
    }
   ],
   "source": [
    "score = model.evaluate(x_test, y_test, verbose=0)\n",
    "print(\"Test loss:\", score[0])\n",
    "print(\"Test accuracy:\", score[1])\n",
    "\n",
    "\n",
    "\n",
    "\n",
    "\n"
   ]
  },
  {
   "cell_type": "code",
   "execution_count": 8,
   "id": "3416a549",
   "metadata": {},
   "outputs": [
    {
     "name": "stdout",
     "output_type": "stream",
     "text": [
      "(28, 28, 1, 10000)\n"
     ]
    }
   ],
   "source": [
    "x_test2 = np.load(\"xTest2.npy\")\n",
    "x_test2 = x_test2/255.0\n",
    "\n",
    "# The data is ordered the wrong way for the keras conv2D layers\n",
    "x_test3 = np.zeros((10000,28,28,1))\n",
    "\n",
    "# add the images in the right order to x_test3\n",
    "for i in range(10000):\n",
    "    x_test3[i,:,:,:] = x_test2[:,:,:,i]\n",
    "    "
   ]
  },
  {
   "cell_type": "code",
   "execution_count": 9,
   "id": "77e60a26",
   "metadata": {},
   "outputs": [
    {
     "name": "stdout",
     "output_type": "stream",
     "text": [
      "313/313 [==============================] - 1s 3ms/step\n"
     ]
    }
   ],
   "source": [
    "y = model.predict(x_test3)"
   ]
  },
  {
   "cell_type": "code",
   "execution_count": 10,
   "id": "9bf0732e",
   "metadata": {},
   "outputs": [],
   "source": [
    "# Now to interpret the probabilities setting mu to the index of the maximum of each prediction vector\n",
    "\n",
    "patterns = []\n",
    "for p in y:\n",
    "    pattern = np.argmax(p)\n",
    "    patterns.append(pattern)"
   ]
  },
  {
   "cell_type": "code",
   "execution_count": 152,
   "id": "28db4983",
   "metadata": {},
   "outputs": [
    {
     "name": "stdout",
     "output_type": "stream",
     "text": [
      "   0\n",
      "0  4\n",
      "1  9\n",
      "2  1\n",
      "3  7\n",
      "4  0\n"
     ]
    }
   ],
   "source": [
    "# Save the predictions in csv format\n",
    "import pandas as pd\n",
    "\n",
    "df = pd.DataFrame(patterns)\n",
    "df.to_csv('classifications.csv', index=False, header=None) # Remove index row and header"
   ]
  }
 ],
 "metadata": {
  "kernelspec": {
   "display_name": "Python 3 (ipykernel)",
   "language": "python",
   "name": "python3"
  },
  "language_info": {
   "codemirror_mode": {
    "name": "ipython",
    "version": 3
   },
   "file_extension": ".py",
   "mimetype": "text/x-python",
   "name": "python",
   "nbconvert_exporter": "python",
   "pygments_lexer": "ipython3",
   "version": "3.9.12"
  }
 },
 "nbformat": 4,
 "nbformat_minor": 5
}
