{
 "cells": [
  {
   "cell_type": "code",
   "execution_count": 1,
   "id": "d84af194",
   "metadata": {},
   "outputs": [
    {
     "ename": "ModuleNotFoundError",
     "evalue": "No module named 'pandas'",
     "output_type": "error",
     "traceback": [
      "\u001b[1;31m---------------------------------------------------------------------------\u001b[0m",
      "\u001b[1;31mModuleNotFoundError\u001b[0m                       Traceback (most recent call last)",
      "Cell \u001b[1;32mIn [1], line 2\u001b[0m\n\u001b[0;32m      1\u001b[0m \u001b[38;5;28;01mimport\u001b[39;00m \u001b[38;5;21;01mnumpy\u001b[39;00m \u001b[38;5;28;01mas\u001b[39;00m \u001b[38;5;21;01mnp\u001b[39;00m\n\u001b[1;32m----> 2\u001b[0m \u001b[38;5;28;01mimport\u001b[39;00m \u001b[38;5;21;01mpandas\u001b[39;00m \u001b[38;5;28;01mas\u001b[39;00m \u001b[38;5;21;01mpd\u001b[39;00m\n\u001b[0;32m      3\u001b[0m \u001b[38;5;28;01mimport\u001b[39;00m \u001b[38;5;21;01mmatplotlib\u001b[39;00m\u001b[38;5;21;01m.\u001b[39;00m\u001b[38;5;21;01mpyplot\u001b[39;00m \u001b[38;5;28;01mas\u001b[39;00m \u001b[38;5;21;01mplt\u001b[39;00m\n\u001b[0;32m      4\u001b[0m plt\u001b[38;5;241m.\u001b[39mstyle\u001b[38;5;241m.\u001b[39muse(\u001b[38;5;124m'\u001b[39m\u001b[38;5;124mggplot\u001b[39m\u001b[38;5;124m'\u001b[39m)\n",
      "\u001b[1;31mModuleNotFoundError\u001b[0m: No module named 'pandas'"
     ]
    }
   ],
   "source": [
    "import numpy as np\n",
    "import pandas as pd\n",
    "import matplotlib.pyplot as plt\n",
    "plt.style.use('ggplot')\n",
    "\n",
    "# load data\n",
    "x_train = pd.read_csv('training_set.csv', header=None, names=['x1', 'x2', 'target'])\n",
    "x_val = pd.read_csv('validation_set.csv', header=None, names=['x1', 'x2', 'target'])\n",
    "\n",
    "x_train.plot.scatter('x1', 'x2', c='target')\n",
    "x_val.plot.scatter('x1', 'x2', c='target')"
   ]
  },
  {
   "cell_type": "code",
   "execution_count": 2,
   "id": "3fa42f67",
   "metadata": {},
   "outputs": [
    {
     "ename": "NameError",
     "evalue": "name 'pd' is not defined",
     "output_type": "error",
     "traceback": [
      "\u001b[1;31m---------------------------------------------------------------------------\u001b[0m",
      "\u001b[1;31mNameError\u001b[0m                                 Traceback (most recent call last)",
      "Cell \u001b[1;32mIn [2], line 3\u001b[0m\n\u001b[0;32m      1\u001b[0m \u001b[38;5;66;03m# Preprocessing\u001b[39;00m\n\u001b[1;32m----> 3\u001b[0m x_train \u001b[38;5;241m=\u001b[39m \u001b[43mpd\u001b[49m\u001b[38;5;241m.\u001b[39mread_csv(\u001b[38;5;124m'\u001b[39m\u001b[38;5;124mtraining_set.csv\u001b[39m\u001b[38;5;124m'\u001b[39m, header\u001b[38;5;241m=\u001b[39m\u001b[38;5;28;01mNone\u001b[39;00m, names\u001b[38;5;241m=\u001b[39m[\u001b[38;5;124m'\u001b[39m\u001b[38;5;124mx1\u001b[39m\u001b[38;5;124m'\u001b[39m, \u001b[38;5;124m'\u001b[39m\u001b[38;5;124mx2\u001b[39m\u001b[38;5;124m'\u001b[39m, \u001b[38;5;124m'\u001b[39m\u001b[38;5;124mtarget\u001b[39m\u001b[38;5;124m'\u001b[39m])\n\u001b[0;32m      4\u001b[0m x_val \u001b[38;5;241m=\u001b[39m pd\u001b[38;5;241m.\u001b[39mread_csv(\u001b[38;5;124m'\u001b[39m\u001b[38;5;124mvalidation_set.csv\u001b[39m\u001b[38;5;124m'\u001b[39m, header\u001b[38;5;241m=\u001b[39m\u001b[38;5;28;01mNone\u001b[39;00m, names\u001b[38;5;241m=\u001b[39m[\u001b[38;5;124m'\u001b[39m\u001b[38;5;124mx1\u001b[39m\u001b[38;5;124m'\u001b[39m, \u001b[38;5;124m'\u001b[39m\u001b[38;5;124mx2\u001b[39m\u001b[38;5;124m'\u001b[39m, \u001b[38;5;124m'\u001b[39m\u001b[38;5;124mtarget\u001b[39m\u001b[38;5;124m'\u001b[39m])\n\u001b[0;32m      6\u001b[0m x_train[\u001b[38;5;124m'\u001b[39m\u001b[38;5;124mx1\u001b[39m\u001b[38;5;124m'\u001b[39m] \u001b[38;5;241m=\u001b[39m (x_train[\u001b[38;5;124m'\u001b[39m\u001b[38;5;124mx1\u001b[39m\u001b[38;5;124m'\u001b[39m] \u001b[38;5;241m-\u001b[39m x_train[\u001b[38;5;124m'\u001b[39m\u001b[38;5;124mx1\u001b[39m\u001b[38;5;124m'\u001b[39m]\u001b[38;5;241m.\u001b[39mmean())\u001b[38;5;241m/\u001b[39mx_train[\u001b[38;5;124m'\u001b[39m\u001b[38;5;124mx1\u001b[39m\u001b[38;5;124m'\u001b[39m]\u001b[38;5;241m.\u001b[39mstd() \u001b[38;5;66;03m# normalise to ~N(0,1)\u001b[39;00m\n",
      "\u001b[1;31mNameError\u001b[0m: name 'pd' is not defined"
     ]
    }
   ],
   "source": [
    "# Preprocessing\n",
    "\n",
    "x_train = pd.read_csv('training_set.csv', header=None, names=['x1', 'x2', 'target'])\n",
    "x_val = pd.read_csv('validation_set.csv', header=None, names=['x1', 'x2', 'target'])\n",
    "\n",
    "x_train['x1'] = (x_train['x1'] - x_train['x1'].mean())/x_train['x1'].std() # normalise to ~N(0,1)\n",
    "x_train['x2'] = (x_train['x2'] - x_train['x2'].mean())/x_train['x2'].std() # normalise to ~N(0,1)\n",
    "\n",
    "x_val['x1'] = (x_val['x1'] - x_val['x1'].mean())/x_val['x1'].std()\n",
    "x_val['x2'] = (x_val['x2'] - x_val['x2'].mean())/x_val['x2'].std()\n",
    "\n",
    "x_train.plot.scatter('x1', 'x2', c='target')\n",
    "x_val.plot.scatter('x1', 'x2', c='target')"
   ]
  },
  {
   "cell_type": "code",
   "execution_count": 3,
   "id": "e7bf3558",
   "metadata": {},
   "outputs": [
    {
     "ename": "NameError",
     "evalue": "name 'pd' is not defined",
     "output_type": "error",
     "traceback": [
      "\u001b[1;31m---------------------------------------------------------------------------\u001b[0m",
      "\u001b[1;31mNameError\u001b[0m                                 Traceback (most recent call last)",
      "Cell \u001b[1;32mIn [3], line 6\u001b[0m\n\u001b[0;32m      3\u001b[0m     \u001b[38;5;28;01mreturn\u001b[39;00m \u001b[38;5;241m1\u001b[39m\u001b[38;5;241m/\u001b[39m(np\u001b[38;5;241m.\u001b[39mcosh(a)\u001b[38;5;241m*\u001b[39m\u001b[38;5;241m*\u001b[39m\u001b[38;5;241m2\u001b[39m)\n\u001b[0;32m      5\u001b[0m \u001b[38;5;66;03m# Network class\u001b[39;00m\n\u001b[1;32m----> 6\u001b[0m \u001b[38;5;28;01mclass\u001b[39;00m \u001b[38;5;21;01mNetwork\u001b[39;00m:\n\u001b[0;32m      7\u001b[0m     \u001b[38;5;28;01mdef\u001b[39;00m \u001b[38;5;21m__init__\u001b[39m(\u001b[38;5;28mself\u001b[39m, M):\n\u001b[0;32m      8\u001b[0m         \u001b[38;5;28mself\u001b[39m\u001b[38;5;241m.\u001b[39mM \u001b[38;5;241m=\u001b[39m M \u001b[38;5;66;03m# Number of neurons\u001b[39;00m\n",
      "Cell \u001b[1;32mIn [3], line 31\u001b[0m, in \u001b[0;36mNetwork\u001b[1;34m()\u001b[0m\n\u001b[0;32m     26\u001b[0m     O \u001b[38;5;241m=\u001b[39m np\u001b[38;5;241m.\u001b[39mtanh(B)\n\u001b[0;32m     28\u001b[0m     \u001b[38;5;28;01mreturn\u001b[39;00m b, V, B, O\n\u001b[1;32m---> 31\u001b[0m \u001b[38;5;28;01mdef\u001b[39;00m \u001b[38;5;21mtrain_stochastic\u001b[39m(\u001b[38;5;28mself\u001b[39m, x_train : \u001b[43mpd\u001b[49m\u001b[38;5;241m.\u001b[39mDataFrame, x_val : pd\u001b[38;5;241m.\u001b[39mDataFrame):\n\u001b[0;32m     32\u001b[0m     \n\u001b[0;32m     33\u001b[0m     \u001b[38;5;66;03m# Choose 1 random patterns\u001b[39;00m\n\u001b[0;32m     34\u001b[0m     \u001b[38;5;66;03m# feed\u001b[39;00m\n\u001b[0;32m     35\u001b[0m     \u001b[38;5;66;03m# backpropagate\u001b[39;00m\n\u001b[0;32m     36\u001b[0m     \u001b[38;5;66;03m# validate every 10 patterns\u001b[39;00m\n\u001b[0;32m     37\u001b[0m     \u001b[38;5;66;03m# repeat\u001b[39;00m\n\u001b[0;32m     38\u001b[0m     run \u001b[38;5;241m=\u001b[39m \u001b[38;5;241m1\u001b[39m\n\u001b[0;32m     39\u001b[0m     \u001b[38;5;28;01mwhile\u001b[39;00m run: \n",
      "\u001b[1;31mNameError\u001b[0m: name 'pd' is not defined"
     ]
    }
   ],
   "source": [
    "# Helper function\n",
    "def g_prime(a: float) -> float:\n",
    "    return 1/(np.cosh(a)**2)\n",
    "\n",
    "\n",
    "# Network class\n",
    "class Network:\n",
    "    def __init__(self, M):\n",
    "        self.M = M # Number of neurons\n",
    "        self.w = np.random.normal(0,1,(M, 2)) # Hidden layer\n",
    "        self.th = np.random.normal(0,1,(M, )) # Hidden layer\n",
    "        self.W = np.random.normal(0,1,(M,  )) # Output layer\n",
    "        self.T = np.random.normal(0,1)        # Output layer\n",
    "        self.lr = 0.001                       # learning rate\n",
    "        self.pval = 5000\n",
    "        self.ptrain = 10000\n",
    "        self.iteration = 0\n",
    "        self.c_errors = []\n",
    "        \n",
    "        \n",
    "    def feed_forward(self, x : list) -> float: \n",
    "        # Hidden layer\n",
    "        b = self.w @ x - self.th\n",
    "        V = np.tanh(b)\n",
    "        # Output layer\n",
    "        B = np.dot(self.W, V) - self.T\n",
    "        O = np.tanh(B)\n",
    "        \n",
    "        return b, V, B, O\n",
    "    \n",
    "    \n",
    "    def train_stochastic(self, x_train : pd.DataFrame, x_val : pd.DataFrame):\n",
    "        \n",
    "        # Choose 1 random patterns\n",
    "        # feed\n",
    "        # backpropagate\n",
    "        # validate every 10 patterns\n",
    "        # repeat\n",
    "        run = 1\n",
    "        while run: \n",
    "            for _ in range(self.ptrain):\n",
    "                idx = np.random.choice(self.ptrain)\n",
    "                # Minibatching for speed\n",
    "                row = x_train.iloc[idx]\n",
    "\n",
    "                x = [row['x1'], row['x2']]\n",
    "                t = row['target']\n",
    "\n",
    "                b, V, B, O = self.feed_forward(x)\n",
    "\n",
    "                # backpropagate\n",
    "                g = (t - O) * g_prime(np.dot(self.W, V) - self.T)\n",
    "                d = g * self.W * g_prime(self.w @ x - self.th)\n",
    "\n",
    "                dW = g * V\n",
    "                dT = g\n",
    "\n",
    "                dw = np.outer(d, x)\n",
    "                dth = d \n",
    "\n",
    "                self.W += self.lr * dW\n",
    "                self.T -= self.lr * dT\n",
    "                self.w += self.lr * dw\n",
    "                self.th -= self.lr * dth\n",
    "\n",
    "            # Validate\n",
    "            c_error = self.validate(x_val)\n",
    "            self.c_errors.append(c_error)\n",
    "            \n",
    "            if c_error > 0.118:\n",
    "                print(f'iter: {self.iteration: >3}\\tc_error {c_error}')\n",
    "                self.iteration += 1\n",
    "                # If 5 latest c_errors are identical and we have iterated ALOT\n",
    "                if self.iteration > 2000:\n",
    "                    self.iteration = 0\n",
    "                    run = 0\n",
    "            else:\n",
    "                print(f'Found c_error lower than 0.12: c_error = {c_error}, iter: {self.iteration}')\n",
    "                run = 0\n",
    "                \n",
    "                \n",
    "    def classification_error(self, targets: list, predictions: list) -> float:\n",
    "        \n",
    "        c_error = 0\n",
    "        \n",
    "        O_sgn = np.sign(predictions)\n",
    "        O_sgn[O_sgn == 0] = 1\n",
    "        \n",
    "        e_abs = np.abs(O_sgn - targets)\n",
    "        c_error = np.sum(e_abs)/(2*self.pval)\n",
    "        \n",
    "        \n",
    "        return c_error\n",
    "    \n",
    "    \n",
    "    def validate(self, x_val):\n",
    "        \n",
    "        targets = list(x_val['target'])\n",
    "        preds = []\n",
    "        \n",
    "        for index, row in x_val.iterrows():\n",
    "            x_i = [row['x1'], row['x2']]\n",
    "            preds.append(self.feed_forward(x_i)[-1])\n",
    "        \n",
    "        c_error = self.classification_error(list(x_val['target']), preds)\n",
    "        \n",
    "        return c_error\n",
    "    \n",
    "    \n"
   ]
  },
  {
   "cell_type": "code",
   "execution_count": null,
   "id": "c4bbe3e0",
   "metadata": {},
   "outputs": [],
   "source": [
    "n = Network(20)\n",
    "n.train_stochastic(x_train, x_val)"
   ]
  },
  {
   "cell_type": "code",
   "execution_count": 73,
   "id": "5274ef07",
   "metadata": {},
   "outputs": [],
   "source": [
    "w_df = pd.DataFrame(n.w)\n",
    "w_df.to_csv('w1.csv', header=False, index=False)\n",
    "W_df = pd.DataFrame(n.W)\n",
    "W_df.to_csv('w2.csv', header=False, index=False)\n",
    "th_df = pd.DataFrame(n.th)\n",
    "T_df = pd.DataFrame([n.T])\n",
    "th_df.to_csv('t1.csv', header=False, index=False)\n",
    "\n",
    "T_df.to_csv('t2.csv', header=False, index=False)"
   ]
  }
 ],
 "metadata": {
  "kernelspec": {
   "display_name": "Python 3 (ipykernel)",
   "language": "python",
   "name": "python3"
  },
  "language_info": {
   "codemirror_mode": {
    "name": "ipython",
    "version": 3
   },
   "file_extension": ".py",
   "mimetype": "text/x-python",
   "name": "python",
   "nbconvert_exporter": "python",
   "pygments_lexer": "ipython3",
   "version": "3.9.12"
  }
 },
 "nbformat": 4,
 "nbformat_minor": 5
}
