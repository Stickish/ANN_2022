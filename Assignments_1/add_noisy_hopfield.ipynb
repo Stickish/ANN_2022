{
 "cells": [
  {
   "cell_type": "code",
   "execution_count": 1,
   "id": "fce525ce",
   "metadata": {},
   "outputs": [],
   "source": [
    "import numpy as np\n",
    "import matplotlib.pyplot as plt\n",
    "plt.style.use('ggplot')\n",
    "\n"
   ]
  },
  {
   "cell_type": "code",
   "execution_count": 2,
   "id": "8a3689d8",
   "metadata": {},
   "outputs": [],
   "source": [
    "# w_ii = 0\n",
    "X = np.zeros((5,2))\n",
    "X[0,:] = [-2, 5]\n",
    "X[1,:] = [0,  1]\n",
    "X[2,:] = [0,  0]\n",
    "X[3,:] = [1,  1]\n",
    "X[4,:] = [1, -1]\n"
   ]
  },
  {
   "cell_type": "code",
   "execution_count": 6,
   "id": "77e2fa04",
   "metadata": {},
   "outputs": [
    {
     "name": "stdout",
     "output_type": "stream",
     "text": [
      "[[  6. -10.]\n",
      " [-10.  28.]]\n",
      "0.9999808199999999\n"
     ]
    }
   ],
   "source": [
    "k = X.transpose() @ X\n",
    "print(k)\n",
    "print(np.dot([-0.7071, 0.7071], [-0.7071, 0.7071] ))"
   ]
  }
 ],
 "metadata": {
  "kernelspec": {
   "display_name": "Python 3 (ipykernel)",
   "language": "python",
   "name": "python3"
  },
  "language_info": {
   "codemirror_mode": {
    "name": "ipython",
    "version": 3
   },
   "file_extension": ".py",
   "mimetype": "text/x-python",
   "name": "python",
   "nbconvert_exporter": "python",
   "pygments_lexer": "ipython3",
   "version": "3.9.12"
  }
 },
 "nbformat": 4,
 "nbformat_minor": 5
}
