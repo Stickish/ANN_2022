{
 "cells": [
  {
   "cell_type": "code",
   "execution_count": 1,
   "id": "a5f8b055",
   "metadata": {},
   "outputs": [],
   "source": [
    "import numpy as np\n",
    "from matplotlib import pyplot as plt\n",
    "from numpy.random import default_rng\n",
    "import cython"
   ]
  },
  {
   "cell_type": "code",
   "execution_count": 11,
   "id": "d8aee3b1",
   "metadata": {},
   "outputs": [],
   "source": []
  },
  {
   "cell_type": "code",
   "execution_count": 88,
   "id": "30edf14f",
   "metadata": {},
   "outputs": [
    {
     "name": "stdout",
     "output_type": "stream",
     "text": [
      "(160,)\n"
     ]
    }
   ],
   "source": [
    "\n",
    "x1=[ [ -1, -1, -1, -1, -1, -1, -1, -1, -1, -1],[ -1, -1, -1, 1, 1, 1, 1, -1, -1, -1],[ -1, -1, 1, 1, 1, 1, 1, 1, -1, -1],[ -1, 1, 1, 1, -1, -1, 1, 1, 1, -1],[ -1, 1, 1, 1, -1, -1, 1, 1, 1, -1],[ -1, 1, 1, 1, -1, -1, 1, 1, 1, -1],[ -1, 1, 1, 1, -1, -1, 1, 1, 1, -1],[ -1, 1, 1, 1, -1, -1, 1, 1, 1, -1],[ -1, 1, 1, 1, -1, -1, 1, 1, 1, -1],[ -1, 1, 1, 1, -1, -1, 1, 1, 1, -1],[ -1, 1, 1, 1, -1, -1, 1, 1, 1, -1],[ -1, 1, 1, 1, -1, -1, 1, 1, 1, -1],[ -1, 1, 1, 1, -1, -1, 1, 1, 1, -1],[ -1, -1, 1, 1, 1, 1, 1, 1, -1, -1],[ -1, -1, -1, 1, 1, 1, 1, -1, -1, -1],[ -1, -1, -1, -1, -1, -1, -1, -1, -1, -1] ]\n",
    "x2=[ [ -1, -1, -1, 1, 1, 1, 1, -1, -1, -1],[ -1, -1, -1, 1, 1, 1, 1, -1, -1, -1],[ -1, -1, -1, 1, 1, 1, 1, -1, -1, -1],[ -1, -1, -1, 1, 1, 1, 1, -1, -1, -1],[ -1, -1, -1, 1, 1, 1, 1, -1, -1, -1],[ -1, -1, -1, 1, 1, 1, 1, -1, -1, -1],[ -1, -1, -1, 1, 1, 1, 1, -1, -1, -1],[ -1, -1, -1, 1, 1, 1, 1, -1, -1, -1],[ -1, -1, -1, 1, 1, 1, 1, -1, -1, -1],[ -1, -1, -1, 1, 1, 1, 1, -1, -1, -1],[ -1, -1, -1, 1, 1, 1, 1, -1, -1, -1],[ -1, -1, -1, 1, 1, 1, 1, -1, -1, -1],[ -1, -1, -1, 1, 1, 1, 1, -1, -1, -1],[ -1, -1, -1, 1, 1, 1, 1, -1, -1, -1],[ -1, -1, -1, 1, 1, 1, 1, -1, -1, -1],[ -1, -1, -1, 1, 1, 1, 1, -1, -1, -1] ]\n",
    "x3=[ [ 1, 1, 1, 1, 1, 1, 1, 1, -1, -1],[ 1, 1, 1, 1, 1, 1, 1, 1, -1, -1],[ -1, -1, -1, -1, -1, 1, 1, 1, -1, -1],[ -1, -1, -1, -1, -1, 1, 1, 1, -1, -1],[ -1, -1, -1, -1, -1, 1, 1, 1, -1, -1],[ -1, -1, -1, -1, -1, 1, 1, 1, -1, -1],[ -1, -1, -1, -1, -1, 1, 1, 1, -1, -1],[ 1, 1, 1, 1, 1, 1, 1, 1, -1, -1],[ 1, 1, 1, 1, 1, 1, 1, 1, -1, -1],[ 1, 1, 1, -1, -1, -1, -1, -1, -1, -1],[ 1, 1, 1, -1, -1, -1, -1, -1, -1, -1],[ 1, 1, 1, -1, -1, -1, -1, -1, -1, -1],[ 1, 1, 1, -1, -1, -1, -1, -1, -1, -1],[ 1, 1, 1, -1, -1, -1, -1, -1, -1, -1],[ 1, 1, 1, 1, 1, 1, 1, 1, -1, -1],[ 1, 1, 1, 1, 1, 1, 1, 1, -1, -1] ]\n",
    "x4=[ [ -1, -1, 1, 1, 1, 1, 1, 1, -1, -1],[ -1, -1, 1, 1, 1, 1, 1, 1, 1, -1],[ -1, -1, -1, -1, -1, -1, 1, 1, 1, -1],[ -1, -1, -1, -1, -1, -1, 1, 1, 1, -1],[ -1, -1, -1, -1, -1, -1, 1, 1, 1, -1],[ -1, -1, -1, -1, -1, -1, 1, 1, 1, -1],[ -1, -1, -1, -1, -1, -1, 1, 1, 1, -1],[ -1, -1, 1, 1, 1, 1, 1, 1, -1, -1],[ -1, -1, 1, 1, 1, 1, 1, 1, -1, -1],[ -1, -1, -1, -1, -1, -1, 1, 1, 1, -1],[ -1, -1, -1, -1, -1, -1, 1, 1, 1, -1],[ -1, -1, -1, -1, -1, -1, 1, 1, 1, -1],[ -1, -1, -1, -1, -1, -1, 1, 1, 1, -1],[ -1, -1, -1, -1, -1, -1, 1, 1, 1, -1],[ -1, -1, 1, 1, 1, 1, 1, 1, 1, -1],[ -1, -1, 1, 1, 1, 1, 1, 1, -1, -1] ]\n",
    "x5=[ [ -1, 1, 1, -1, -1, -1, -1, 1, 1, -1],[ -1, 1, 1, -1, -1, -1, -1, 1, 1, -1],[ -1, 1, 1, -1, -1, -1, -1, 1, 1, -1],[ -1, 1, 1, -1, -1, -1, -1, 1, 1, -1],[ -1, 1, 1, -1, -1, -1, -1, 1, 1, -1],[ -1, 1, 1, -1, -1, -1, -1, 1, 1, -1],[ -1, 1, 1, -1, -1, -1, -1, 1, 1, -1],[ -1, 1, 1, 1, 1, 1, 1, 1, 1, -1],[ -1, 1, 1, 1, 1, 1, 1, 1, 1, -1],[ -1, -1, -1, -1, -1, -1, -1, 1, 1, -1],[ -1, -1, -1, -1, -1, -1, -1, 1, 1, -1],[ -1, -1, -1, -1, -1, -1, -1, 1, 1, -1],[ -1, -1, -1, -1, -1, -1, -1, 1, 1, -1],[ -1, -1, -1, -1, -1, -1, -1, 1, 1, -1],[ -1, -1, -1, -1, -1, -1, -1, 1, 1, -1],[ -1, -1, -1, -1, -1, -1, -1, 1, 1, -1] ]\n",
    "\n",
    "x1 = np.reshape(x1, (160,))\n",
    "x2 = np.reshape(x2, (160,))\n",
    "x3 = np.reshape(x3, (160,))\n",
    "x4 = np.reshape(x4, (160,))\n",
    "x5 = np.reshape(x5, (160,))\n",
    "\n",
    "patterns = [x1, x2, x3, x4, x5]\n",
    "\n",
    "p1 = [[-1, -1, -1, -1, -1, -1, -1, -1, -1, -1], [-1, -1, -1, 1, 1, 1, 1, -1, -1, -1], [-1, -1, 1, 1, 1, 1, 1, 1, -1, -1], [-1, 1, 1, 1, -1, -1, 1, 1, 1, -1], [-1, 1, 1, 1, -1, -1, 1, 1, 1, -1], [-1, 1, 1, 1, -1, -1, 1, 1, 1, -1], [-1, 1, 1, 1, -1, -1, 1, 1, 1, -1], [-1, 1, 1, 1, -1, -1, 1, 1, 1, -1], [-1, 1, 1, 1, -1, -1, 1, 1, 1, -1], [-1, 1, 1, 1, -1, -1, 1, 1, 1, -1], [-1, 1, 1, 1, -1, -1, 1, 1, 1, -1], [-1, 1, 1, 1, -1, -1, 1, 1, 1, -1], [-1, 1, 1, 1, -1, -1, 1, 1, 1, -1], [-1, -1, 1, 1, 1, 1, 1, 1, -1, -1], [-1, -1, -1, 1, 1, 1, 1, -1, -1, -1], [1, 1, 1, 1, 1, 1, 1, 1, 1, 1]] \n",
    "p2 = [[-1, 1, -1, 1, -1, 1, -1, 1, 1, -1], [-1, 1, -1, 1, -1, 1, -1, 1, 1, -1], [1, -1, 1, -1, 1, 1, -1, 1, 1, -1], [1, -1, 1, -1, 1, 1, -1, 1, 1, -1], [1, -1, 1, -1, 1, 1, -1, 1, 1, -1], [1, -1, 1, -1, 1, 1, -1, 1, 1, -1], [1, -1, 1, -1, 1, 1, -1, 1, 1, -1], [-1, 1, -1, 1, -1, 1, -1, 1, 1, -1], [-1, 1, -1, 1, -1, 1, -1, 1, 1, -1], [-1, 1, -1, -1, 1, -1, 1, -1, 1, -1], [-1, 1, -1, -1, 1, -1, 1, -1, 1, -1], [-1, 1, -1, -1, 1, -1, 1, -1, 1, -1], [-1, 1, -1, -1, 1, -1, 1, -1, 1, -1], [-1, 1, -1, -1, 1, -1, 1, -1, 1, -1], [-1, 1, -1, 1, -1, 1, -1, 1, 1, -1], [-1, 1, -1, 1, -1, 1, -1, 1, 1, -1]] \n",
    "p3 = [[-1, -1, 1, 1, 1, 1, 1, 1, -1, -1], [-1, -1, 1, 1, 1, 1, 1, 1, 1, -1], [-1, -1, -1, 1, 1, 1, 1, 1, 1, -1], [-1, -1, -1, 1, -1, -1, 1, 1, 1, -1], [-1, -1, -1, 1, -1, -1, 1, 1, 1, -1], [-1, -1, -1, 1, -1, -1, 1, 1, 1, -1], [-1, -1, -1, 1, -1, -1, 1, 1, 1, -1], [-1, -1, 1, 1, 1, 1, 1, 1, -1, -1], [-1, -1, 1, 1, 1, 1, 1, 1, -1, -1], [-1, 1, 1, 1, -1, -1, 1, 1, 1, -1], [-1, 1, 1, 1, -1, -1, 1, 1, 1, -1], [-1, 1, 1, 1, -1, -1, 1, 1, 1, -1], [-1, 1, 1, 1, -1, -1, 1, 1, 1, -1], [-1, -1, 1, 1, 1, 1, 1, 1, 1, -1], [-1, -1, 1, 1, 1, 1, 1, 1, 1, -1], [-1, -1, 1, 1, 1, 1, 1, 1, -1, -1]] \n",
    "\n",
    "p1 = np.reshape(p1, (160,))\n",
    "p2 = np.reshape(p2, (160,))\n",
    "p3 = np.reshape(p3, (160,))\n",
    "# print(p2.shape)\n",
    "unknown_pattern = [p1, p2, p3]\n",
    "\n",
    "\n",
    "\n",
    "N = 160"
   ]
  },
  {
   "cell_type": "code",
   "execution_count": 91,
   "id": "c516def3",
   "metadata": {},
   "outputs": [
    {
     "name": "stdout",
     "output_type": "stream",
     "text": [
      "!\n",
      "!\n",
      "!\n",
      "[[-1 -1  1  1  1  1  1  1 -1 -1]\n",
      " [-1 -1  1  1  1  1  1  1  1 -1]\n",
      " [-1 -1 -1 -1 -1 -1  1  1  1 -1]\n",
      " [-1 -1 -1 -1 -1 -1  1  1  1 -1]\n",
      " [-1 -1 -1 -1 -1 -1  1  1  1 -1]\n",
      " [-1 -1 -1 -1 -1 -1  1  1  1 -1]\n",
      " [-1 -1 -1 -1 -1 -1  1  1  1 -1]\n",
      " [-1 -1  1  1  1  1  1  1 -1 -1]\n",
      " [-1 -1  1  1  1  1  1  1 -1 -1]\n",
      " [-1 -1 -1 -1 -1 -1  1  1  1 -1]\n",
      " [-1 -1 -1 -1 -1 -1  1  1  1 -1]\n",
      " [-1 -1 -1 -1 -1 -1  1  1  1 -1]\n",
      " [-1 -1 -1 -1 -1 -1  1  1  1 -1]\n",
      " [-1 -1 -1 -1 -1 -1  1  1  1 -1]\n",
      " [-1 -1  1  1  1  1  1  1  1 -1]\n",
      " [-1 -1  1  1  1  1  1  1 -1 -1]]\n"
     ]
    }
   ],
   "source": [
    "# Hopfield\n",
    "# Hebb's rule w_ii = 0\n",
    "# Typewriter scheme top right to left then repeat (ie following the order of the vectors)\n",
    "\n",
    "\n",
    "class Network:\n",
    "    \n",
    "    def __init__(self, N, patterns):\n",
    "        self.N = N\n",
    "        self.w = np.zeros((N,N))\n",
    "        self.s = np.zeros(N)\n",
    "        \n",
    "        for p in patterns:\n",
    "            w_p = np.outer(p, p)\n",
    "            self.w += w_p\n",
    "        \n",
    "        # set diagonal to 0 and divide by N\n",
    "        np.fill_diagonal(self.w, 0)\n",
    "        self.w /= self.N\n",
    "        \n",
    "    def update(self) -> np.ndarray:    \n",
    "        \n",
    "        for i in range(self.N):\n",
    "#             print(self.w.shape)\n",
    "#             print(self.s.shape)\n",
    "            b_i = self.w[i,:] @ self.s\n",
    "            \n",
    "            # Signum\n",
    "            if b_i >= 0:\n",
    "                self.s[i] = 1\n",
    "            else:\n",
    "                self.s[i] = -1\n",
    "            \n",
    "        \n",
    "        \n",
    "    \n",
    "    def run(self, x: np.ndarray, readable=False) -> list:\n",
    "    \n",
    "        self.s = x\n",
    "        # print(self.s.shape)\n",
    "        iterate = 1\n",
    "        while iterate:\n",
    "            print(\"!\")\n",
    "            s_t = self.s.copy()\n",
    "            self.update()\n",
    "            # s is now s_t+1\n",
    "            if np.array_equal(s_t, self.s):\n",
    "                # for safety iterate 3 more times then exit\n",
    "                for _ in range(3):\n",
    "                    self.update()\n",
    "                if np.array_equal(s_t, self.s):\n",
    "                    iterate = 0\n",
    "        \n",
    "        \n",
    "        # init\n",
    "        # Save all the patterns\n",
    "        if readable:\n",
    "            return np.reshape(self.s, (16,-1))\n",
    "        \n",
    "        else:\n",
    "            return list(self.s)\n",
    "        \n",
    "\n",
    "\n",
    "\n",
    "\n",
    "a = Network(N, patterns)\n",
    "\n",
    "results = []\n",
    "# print(patterns[0].shape)\n",
    "for x_ in unknown_pattern:\n",
    "  #   print(x_.shape)\n",
    "    outp = a.run(x_, readable=True)\n",
    "    results.append(outp)\n",
    "print(results)"
   ]
  },
  {
   "cell_type": "code",
   "execution_count": null,
   "id": "032e6064",
   "metadata": {},
   "outputs": [],
   "source": [
    "[[-1, -1,  1,  1,  1,  1,  1,  1, -1, -1],\n",
    " [-1, -1,  1,  1,  1,  1,  1,  1,  1, -1],\n",
    " [-1, -1, -1, -1, -1, -1,  1,  1,  1, -1],\n",
    " [-1, -1, -1, -1, -1, -1,  1,  1,  1, -1],\n",
    " [-1, -1, -1, -1, -1, -1,  1,  1,  1, -1],\n",
    " [-1, -1, -1, -1, -1, -1,  1,  1,  1, -1],\n",
    " [-1, -1, -1, -1, -1, -1,  1,  1,  1, -1],\n",
    " [-1, -1,  1,  1,  1,  1,  1,  1, -1, -1],\n",
    " [-1, -1,  1,  1,  1,  1,  1,  1, -1, -1],\n",
    " [-1, -1, -1, -1, -1, -1,  1,  1,  1, -1],\n",
    " [-1, -1, -1, -1, -1, -1,  1,  1,  1, -1],\n",
    " [-1, -1, -1, -1, -1, -1,  1,  1,  1, -1],\n",
    " [-1, -1, -1, -1, -1, -1,  1,  1,  1, -1],\n",
    " [-1, -1, -1, -1, -1, -1,  1,  1,  1, -1],\n",
    " [-1, -1,  1,  1,  1,  1,  1,  1,  1, -1],\n",
    " [-1, -1,  1,  1,  1,  1,  1,  1, -1, -1],]"
   ]
  },
  {
   "cell_type": "code",
   "execution_count": 97,
   "id": "8eeecc01",
   "metadata": {},
   "outputs": [
    {
     "data": {
      "image/png": "[encoded data removed]",
      "text/plain": [
       "<Figure size 800x800 with 1 Axes>"
      ]
     },
     "metadata": {},
     "output_type": "display_data"
    }
   ],
   "source": [
    "## Visualize\n",
    "\n",
    "f = plt.figure(figsize=(8,8))\n",
    "plt.imshow(p3.reshape((16,-1)), cmap='binary')\n",
    "plt.xticks([1,2,4,6,8,10], [])\n",
    "plt.yticks([0,1,2,3,4,5,6,7,8,9,10,11,12,13,14,15], [])\n",
    "# plt.grid(True, 'both')\n",
    "plt.show()\n",
    "\n",
    "\n",
    "\n",
    "\n",
    "\n"
   ]
  }
 ],
 "metadata": {
  "kernelspec": {
   "display_name": "Python 3 (ipykernel)",
   "language": "python",
   "name": "python3"
  },
  "language_info": {
   "codemirror_mode": {
    "name": "ipython",
    "version": 3
   },
   "file_extension": ".py",
   "mimetype": "text/x-python",
   "name": "python",
   "nbconvert_exporter": "python",
   "pygments_lexer": "ipython3",
   "version": "3.9.12"
  }
 },
 "nbformat": 4,
 "nbformat_minor": 5
}
