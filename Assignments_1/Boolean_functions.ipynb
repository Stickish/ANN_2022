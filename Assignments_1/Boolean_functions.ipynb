{
 "cells": [
  {
   "cell_type": "code",
   "execution_count": 1,
   "id": "9f7f69c1",
   "metadata": {},
   "outputs": [],
   "source": [
    "import numpy as np\n",
    "from matplotlib import pyplot as plt\n",
    "from numpy.random import default_rng\n",
    "from itertools import product\n"
   ]
  },
  {
   "cell_type": "code",
   "execution_count": 3,
   "id": "1e0f0c6f",
   "metadata": {},
   "outputs": [
    {
     "name": "stdout",
     "output_type": "stream",
     "text": [
      "Done with sampling 10000 functions\n",
      "For n=4 there are 275 linearly seperable boolean functions!\n",
      "\n",
      "Done with sampling 10000 functions\n",
      "For n=4 there are 272 linearly seperable boolean functions!\n",
      "\n",
      "Done with sampling 10000 functions\n",
      "For n=4 there are 245 linearly seperable boolean functions!\n",
      "\n",
      "Done with sampling 10000 functions\n",
      "For n=4 there are 273 linearly seperable boolean functions!\n",
      "\n",
      "Done with sampling 10000 functions\n",
      "For n=4 there are 249 linearly seperable boolean functions!\n",
      "\n",
      "Done with sampling 10000 functions\n",
      "For n=4 there are 299 linearly seperable boolean functions!\n",
      "\n",
      "Done with sampling 10000 functions\n",
      "For n=4 there are 267 linearly seperable boolean functions!\n",
      "\n",
      "Done with sampling 10000 functions\n",
      "For n=4 there are 240 linearly seperable boolean functions!\n",
      "\n",
      "Done with sampling 10000 functions\n",
      "For n=4 there are 262 linearly seperable boolean functions!\n",
      "\n",
      "Done with sampling 10000 functions\n",
      "For n=4 there are 262 linearly seperable boolean functions!\n",
      "\n"
     ]
    }
   ],
   "source": [
    "class Perceptron:\n",
    "    def __init__(self, n):\n",
    "        self.rng = default_rng()\n",
    "        self.n = n\n",
    "        self.lr = 0.05\n",
    "        self.iters = 20\n",
    "        self.thresh = 0\n",
    "        self.weights = self.rng.normal(loc=0, scale =1/self.n, size=(self.n,))\n",
    "        self.xy = []\n",
    "    \n",
    "    def g(self, x) -> int:\n",
    "        O = np.dot(self.weights, x) - self.thresh\n",
    "        g = 0\n",
    "        if O >= 0:\n",
    "            g = 1\n",
    "        else:\n",
    "            g = -1\n",
    "        return g\n",
    "    \n",
    "    \n",
    "    def run(self) -> float:\n",
    "        \n",
    "        def hasher(l: list)  -> str:\n",
    "            h = ''\n",
    "            for x in l:\n",
    "                h += str(x)\n",
    "            return h\n",
    "        \n",
    "        def unhasher(s: str)  -> list:\n",
    "            l = []\n",
    "            for c in s:\n",
    "                l.append(int(c))\n",
    "            return l\n",
    "        \n",
    "        num_linearly_sep_funcs = 0\n",
    "        \n",
    "        values = [0, 1]\n",
    "        # Find 10^4 unique functions\n",
    "        hashes = []\n",
    "        functions = []\n",
    "        max_iters = 10 ** 4\n",
    "        num_functions = 2 ** (2 ** self.n) \n",
    "        \n",
    "        pairs = list(product(values, repeat=self.n))\n",
    "        x_list = []\n",
    "        for p in pairs:\n",
    "            x_list.append(list(p))\n",
    "        self.xy = np.asarray(x_list)\n",
    "        if max_iters < num_functions:\n",
    "            while len(functions) < max_iters:\n",
    "                rng = default_rng()\n",
    "                f = rng.choice(values, 2 ** self.n)\n",
    "                h = hasher(f)\n",
    "                f[f==0] = -1\n",
    "                if h not in hashes:\n",
    "                    hashes.append(h)\n",
    "                    functions.append(f)\n",
    "        \n",
    "        else:\n",
    "            while len(functions) < num_functions:\n",
    "                rng = default_rng()\n",
    "                f = rng.choice(values, 2 ** self.n)\n",
    "                h = hasher(f)\n",
    "                f[f==0] = -1\n",
    "                if h not in hashes:\n",
    "                    hashes.append(h)\n",
    "                    functions.append(f)\n",
    "        print(f'Done with sampling {len(functions)} functions')\n",
    "        for i in range(len(functions)):\n",
    "            f = functions[i]\n",
    "            h = hashes[i]\n",
    "            for _ in range(self.iters):\n",
    "                for j, x in enumerate(self.xy):\n",
    "                    O = self.g(x)\n",
    "                    t = f[j]\n",
    "                    dw = self.lr * (t - O) * x\n",
    "                    dth = -self.lr * (t - O) \n",
    "                    self.weights += dw\n",
    "                    self.thresh += dth\n",
    "                    \n",
    "            # Check if it is linearly separable    \n",
    "            correct = 0\n",
    "            for j, x in enumerate(self.xy):\n",
    "                if self.g(x) == f[j]:\n",
    "                    correct += 1\n",
    "                    \n",
    "            if correct == len(f):\n",
    "                num_linearly_sep_funcs += 1\n",
    "        \n",
    "        print(f'For n={self.n} there are {num_linearly_sep_funcs} linearly seperable boolean functions!\\n')\n",
    "        return num_linearly_sep_funcs\n",
    "\n",
    "answers = []\n",
    "for _ in range(10):\n",
    "    p = Perceptron(4)\n",
    "    # print(p.weights)\n",
    "    answers.append(p.run())"
   ]
  },
  {
   "cell_type": "code",
   "execution_count": 4,
   "id": "26ff6290",
   "metadata": {},
   "outputs": [
    {
     "name": "stdout",
     "output_type": "stream",
     "text": [
      "n=4: 264.4 +- 16.33523798418621\n"
     ]
    }
   ],
   "source": [
    "print(f'n=4: {np.mean(answers)} +- {np.std(answers)}')"
   ]
  },
  {
   "cell_type": "code",
   "execution_count": 262,
   "id": "5b029a43",
   "metadata": {},
   "outputs": [
    {
     "data": {
      "image/png": "[encoded data removed]",
      "text/plain": [
       "<Figure size 800x800 with 1 Axes>"
      ]
     },
     "metadata": {},
     "output_type": "display_data"
    }
   ],
   "source": [
    "answers_scaled = [14/16, 104/256, 239/10000, 0]\n",
    "plt.style.use('ggplot')\n",
    "f = plt.figure(figsize=(8,8))\n",
    "plt.plot([2, 3, 4, 5], answers_scaled, marker='+')\n",
    "plt.ylabel('Proportion of\\nlinearly seperable boolean functions')\n",
    "plt.xlabel('Number of dimensions')\n",
    "plt.xticks([2,3,4,5], [2,3,4,5])\n",
    "plt.show()"
   ]
  },
  {
   "cell_type": "code",
   "execution_count": 5,
   "id": "b912ab43",
   "metadata": {},
   "outputs": [
    {
     "name": "stdout",
     "output_type": "stream",
     "text": [
      "[-1. -1. -1.  1.]\n",
      "[0.40978826 0.72903118 0.82322681 0.05226663]\n",
      "[0.1, 0.2, 0.5, 0.6]\n",
      "[1.22140276 1.4918247  2.71828183 3.32011692]\n"
     ]
    }
   ],
   "source": [
    "import numpy as np\n",
    "ps = [0.1, 0.2, 0.5, 0.6]\n",
    "r = np.random.rand(4)\n",
    "h = np.zeros((4,))\n",
    "h[:] = -1\n",
    "h[r < ps ] = 1\n",
    "print(h)\n",
    "print(r)\n",
    "print(ps)\n",
    "\n",
    "h2 =np.zeros((4,))\n",
    "h2[r > ps] = -1\n",
    "\n",
    "\n",
    "\n",
    "def pp(a):\n",
    "    return 1/(np.exp(-2*a))\n",
    "\n",
    "print(pp(np.asarray(ps)))"
   ]
  }
 ],
 "metadata": {
  "kernelspec": {
   "display_name": "Python 3 (ipykernel)",
   "language": "python",
   "name": "python3"
  },
  "language_info": {
   "codemirror_mode": {
    "name": "ipython",
    "version": 3
   },
   "file_extension": ".py",
   "mimetype": "text/x-python",
   "name": "python",
   "nbconvert_exporter": "python",
   "pygments_lexer": "ipython3",
   "version": "3.9.12"
  }
 },
 "nbformat": 4,
 "nbformat_minor": 5
}
