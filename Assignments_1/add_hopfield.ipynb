{
 "cells": [
  {
   "cell_type": "code",
   "execution_count": 4,
   "id": "975bc839",
   "metadata": {},
   "outputs": [],
   "source": [
    "import numpy as np\n",
    "import matplotlib.pyplot as plt\n",
    "\n",
    "\n",
    "p1 = [-1, -1, -1, -1, -1,  1,  1, -1, -1]\n",
    "p2 = [-1, -1,  1, -1, -1, -1, -1,  1, -1]\n",
    "p3 = [-1, -1, -1, -1, -1,  1, -1, -1, -1]\n",
    "\n",
    "\n"
   ]
  },
  {
   "cell_type": "code",
   "execution_count": 27,
   "id": "ebc0269b",
   "metadata": {},
   "outputs": [
    {
     "name": "stdout",
     "output_type": "stream",
     "text": [
      "{1: [-1, -1, -1, -1, -1, 1, 1, -1, -1], 2: [-1, -1, 1, -1, -1, -1, -1, 1, -1], 3: [-1, -1, -1, -1, -1, 1, 1, -1, -1]}\n"
     ]
    },
    {
     "data": {
      "text/plain": [
       "array([[-1., -1.,  1.],\n",
       "       [-1., -1., -1.],\n",
       "       [-1.,  1., -1.]])"
      ]
     },
     "execution_count": 27,
     "metadata": {},
     "output_type": "execute_result"
    }
   ],
   "source": [
    "\n",
    "class Perceptron:\n",
    "    def __init__(self, N):\n",
    "        self.w = np.zeros((N,N))\n",
    "        self.N = N\n",
    "        self.s = np.zeros((N,))\n",
    "        self.output = {}\n",
    "        \n",
    "    def run(self, patterns):\n",
    "        # Store the first two patterns\n",
    "        for p in patterns[:2]:\n",
    "            #print(p)\n",
    "            w_p = np.outer(p, p)\n",
    "            self.w += w_p\n",
    "        self.w /= self.N\n",
    "        \n",
    "        # feed the patterns\n",
    "        for j, x in enumerate(patterns):\n",
    "            self.s = x\n",
    "            \n",
    "            for i in range(self.N):\n",
    "                b_i = np.dot(self.w[i,:], x)\n",
    "                # Signum\n",
    "                if b_i >= 0:\n",
    "                    self.s[i] = 1\n",
    "                else:\n",
    "                    self.s[i] = -1\n",
    "            self.output[j+1] = self.s\n",
    "        \n",
    "        return self.output\n",
    "        \n",
    "    def visualize(self):\n",
    "        for p in self.output.values():\n",
    "            output_pattern = np.zeros((3,3))\n",
    "\n",
    "            output_pattern[:,0] = p[0:3]\n",
    "            output_pattern[:,1] = p[3:6]\n",
    "            output_pattern[:,2] = p[6:]\n",
    "        return output_pattern\n",
    "        \n",
    "        \n",
    "perceptron = Perceptron(9) \n",
    "perceptron.run([p1,p2,p3])\n",
    "print(perceptron.output)\n",
    "perceptron.visualize()"
   ]
  }
 ],
 "metadata": {
  "kernelspec": {
   "display_name": "Python 3 (ipykernel)",
   "language": "python",
   "name": "python3"
  },
  "language_info": {
   "codemirror_mode": {
    "name": "ipython",
    "version": 3
   },
   "file_extension": ".py",
   "mimetype": "text/x-python",
   "name": "python",
   "nbconvert_exporter": "python",
   "pygments_lexer": "ipython3",
   "version": "3.9.12"
  }
 },
 "nbformat": 4,
 "nbformat_minor": 5
}
